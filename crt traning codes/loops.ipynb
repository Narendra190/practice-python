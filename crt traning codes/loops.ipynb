{
 "cells": [
  {
   "cell_type": "code",
   "execution_count": 5,
   "id": "3f75bf96",
   "metadata": {},
   "outputs": [
    {
     "name": "stdout",
     "output_type": "stream",
     "text": [
      "1\n",
      "2\n",
      "3\n",
      "4\n",
      "5\n",
      "6\n",
      "7\n",
      "8\n",
      "9\n",
      "10\n"
     ]
    }
   ],
   "source": [
    "''' write a program to print the sum of numbers from 1 to n by while loop'''\n",
    "\n",
    "n=int(input())\n",
    "sum=0\n",
    "i=1\n",
    "while i<=n:\n",
    "    sum=sum+1\n",
    "    i=i+1\n",
    "    print(sum)"
   ]
  },
  {
   "cell_type": "code",
   "execution_count": 11,
   "id": "7108dffd",
   "metadata": {},
   "outputs": [
    {
     "name": "stdout",
     "output_type": "stream",
     "text": [
      "100\n",
      "10.0\n"
     ]
    }
   ],
   "source": [
    "\"program that reads inputs and find sum and find the avg\"\n",
    "\n",
    "n = int(input())\n",
    "totalsum = 0\n",
    "for i in range(n):\n",
    "    totalsum += n\n",
    "\n",
    "avg = totalsum / n\n",
    "print(totalsum)\n",
    "print(avg)\n"
   ]
  },
  {
   "cell_type": "code",
   "execution_count": null,
   "id": "6f0a299d",
   "metadata": {},
   "outputs": [
    {
     "name": "stdout",
     "output_type": "stream",
     "text": [
      "*\n",
      "**\n",
      "***\n",
      "****\n"
     ]
    }
   ],
   "source": [
    "n = int(input())\n",
    "for i in range (1,n):\n",
    "    print(\"*\"*i)\n"
   ]
  },
  {
   "cell_type": "code",
   "execution_count": 30,
   "id": "37502fbe",
   "metadata": {},
   "outputs": [
    {
     "name": "stdout",
     "output_type": "stream",
     "text": [
      "0\n",
      "1\n",
      "1\n",
      "2\n",
      "3\n",
      "5\n",
      "8\n",
      "13\n",
      "21\n",
      "34\n"
     ]
    }
   ],
   "source": [
    "''' write a program to print the fibnocci series upto n terms'''\n",
    "\n",
    "n=int(input())\n",
    "a,b=0,1\n",
    "for i in range(n):\n",
    "    print(a)\n",
    "    a,b=b,a+b"
   ]
  },
  {
   "cell_type": "code",
   "execution_count": null,
   "id": "34473494",
   "metadata": {},
   "outputs": [
    {
     "name": "stdout",
     "output_type": "stream",
     "text": [
      "5\n",
      "5\n",
      "5\n",
      "5\n",
      "5\n"
     ]
    }
   ],
   "source": [
    "\n",
    "# n = int(input())\n",
    "# if n %2 ==1:\n",
    "#     print(\"yes\")\n",
    "# else:\n",
    "#     print(\"no\")    \n",
    "\n",
    "\n",
    "# n = int(input())\n",
    "# is_prime = True\n",
    "# for i in range(2,n):\n",
    "#     if n %i ==0:\n",
    "#         is_prime = False\n",
    "#         break\n",
    "#     if(is_prime == True):\n",
    "#         print(\"prime\")\n",
    "#     else:\n",
    "#         print(\"no\")\n",
    "\n",
    "\n",
    "\n",
    "\n",
    "\n",
    "# prime numbers in specific range\n",
    "n = int(input())\n",
    "is_prime = True\n",
    "for i in range(m,n+1):\n",
    "    if n %i ==0:\n",
    "        is_prime = False\n",
    "        break\n",
    "    if(is_prime == True):\n",
    "        print(\"prime\")\n",
    "    else:\n",
    "        print(\"no\")"
   ]
  },
  {
   "cell_type": "code",
   "execution_count": 1,
   "id": "72a0374a",
   "metadata": {},
   "outputs": [
    {
     "ename": "ValueError",
     "evalue": "invalid literal for int() with base 10: ''",
     "output_type": "error",
     "traceback": [
      "\u001b[31m---------------------------------------------------------------------------\u001b[39m",
      "\u001b[31mValueError\u001b[39m                                Traceback (most recent call last)",
      "\u001b[36mCell\u001b[39m\u001b[36m \u001b[39m\u001b[32mIn[1]\u001b[39m\u001b[32m, line 1\u001b[39m\n\u001b[32m----> \u001b[39m\u001b[32m1\u001b[39m m=\u001b[38;5;28;43mint\u001b[39;49m\u001b[43m(\u001b[49m\u001b[38;5;28;43minput\u001b[39;49m\u001b[43m(\u001b[49m\u001b[43m)\u001b[49m\u001b[43m)\u001b[49m\n\u001b[32m      2\u001b[39m n=\u001b[38;5;28mint\u001b[39m(\u001b[38;5;28minput\u001b[39m())\n\u001b[32m      3\u001b[39m \u001b[38;5;28;01mfor\u001b[39;00m i \u001b[38;5;129;01min\u001b[39;00m \u001b[38;5;28mrange\u001b[39m (m,n+\u001b[32m1\u001b[39m):\n",
      "\u001b[31mValueError\u001b[39m: invalid literal for int() with base 10: ''"
     ]
    }
   ],
   "source": [
    "m=int(input())\n",
    "n=int(input())\n",
    "for i in range (m,n+1):\n",
    "    is_prime==True\n",
    "    for j in range (2,i):\n",
    "        if(i%j==0):\n",
    "            is_prime==False\n",
    "            if(is_prime==True):\n",
    "                print(i)"
   ]
  },
  {
   "cell_type": "code",
   "execution_count": 27,
   "id": "a13b3ab0",
   "metadata": {},
   "outputs": [
    {
     "name": "stdout",
     "output_type": "stream",
     "text": [
      "150 is not a armstrong number\n",
      "151 is not a armstrong number\n",
      "152 is not a armstrong number\n",
      "153 is an aremstrong number\n",
      "154 is not a armstrong number\n",
      "155 is not a armstrong number\n"
     ]
    }
   ],
   "source": [
    "n=int(input(\"one:\"))\n",
    "m=int(input(\"two:\"))\n",
    "for i in range(n,m+1):\n",
    "    a=str(i)\n",
    "    sum=0\n",
    "    for j in range(len(a)):\n",
    "        sum+=int(a[j])**len(a)\n",
    "    if sum==i:\n",
    "        print(i, \"is an aremstrong number\")\n",
    "    else:\n",
    "        print(i, \"is not a armstrong number\")"
   ]
  },
  {
   "cell_type": "code",
   "execution_count": 4,
   "id": "afec47ce",
   "metadata": {},
   "outputs": [
    {
     "name": "stdout",
     "output_type": "stream",
     "text": [
      "1\n",
      "3\n",
      "4\n",
      "5\n"
     ]
    }
   ],
   "source": [
    "''' loop control statements'''\n",
    "n=int(input())\n",
    "for i in range(1, n):\n",
    "    if i==2:\n",
    "        continue\n",
    "    elif i==6:\n",
    "        break\n",
    "    else:\n",
    "        print(i)\n"
   ]
  },
  {
   "cell_type": "code",
   "execution_count": 28,
   "id": "131da89a",
   "metadata": {},
   "outputs": [
    {
     "name": "stdout",
     "output_type": "stream",
     "text": [
      "53535 is a Palindrome\n"
     ]
    }
   ],
   "source": [
    "n = input(\"Enter a string or number: \")\n",
    "\n",
    "reversed_n = n[::-1]\n",
    "if n == reversed_n:\n",
    "    print(n, \"is a Palindrome\")\n",
    "else:\n",
    "    print(n, \"is not a Palindrome\")"
   ]
  },
  {
   "cell_type": "code",
   "execution_count": null,
   "id": "63fae1af",
   "metadata": {},
   "outputs": [
    {
     "name": "stdout",
     "output_type": "stream",
     "text": [
      "8\n"
     ]
    }
   ],
   "source": [
    "# minimum\n",
    "\n",
    "# n=int(input())\n",
    "# m=int(input())\n",
    "# if n>m:\n",
    "#     print(m)\n",
    "# else:\n",
    "#     print(n)\n",
    "\n",
    "# print(min(4, 7))\n",
    "\n",
    "\n",
    "    # maximum\n",
    "\n",
    "# n=int(input())\n",
    "# m=int(input())\n",
    "# if n<m:\n",
    "#     print(m)\n",
    "# else:\n",
    "#     print(n)\n",
    "\n",
    "# print(max(8,5))\n",
    "\n"
   ]
  },
  {
   "cell_type": "code",
   "execution_count": 45,
   "id": "c7f378cc",
   "metadata": {},
   "outputs": [
    {
     "name": "stdout",
     "output_type": "stream",
     "text": [
      "9 not a strong number\n"
     ]
    }
   ],
   "source": [
    "n=int(input())\n",
    "fact_sum=0\n",
    "for i in str(n):\n",
    "    i=int(i)\n",
    "    fact=1\n",
    "    for j in range (1, i+1):\n",
    "        fact*=j\n",
    "    fact_sum+=fact\n",
    "if(fact_sum==n):\n",
    "    print(i, \"strong number\")\n",
    "else:\n",
    "    print(i, \"not a strong number\")"
   ]
  },
  {
   "cell_type": "code",
   "execution_count": 55,
   "id": "b78edb56",
   "metadata": {},
   "outputs": [
    {
     "name": "stdout",
     "output_type": "stream",
     "text": [
      "Vowels in the string are:\n",
      "a e "
     ]
    }
   ],
   "source": [
    "n = input(\"Enter a string: \")\n",
    "vowels = \"aeiouAEIOU\"\n",
    "print(\"Vowels in the string are:\")\n",
    "for char in n:\n",
    "    if char in vowels:\n",
    "        print(char, end=' ')"
   ]
  },
  {
   "cell_type": "code",
   "execution_count": 57,
   "id": "a9ad1cf2",
   "metadata": {},
   "outputs": [
    {
     "name": "stdout",
     "output_type": "stream",
     "text": [
      "2\n"
     ]
    }
   ],
   "source": [
    "a=input()\n",
    "vowels=\"aeiouAEIOU\"\n",
    "count=0\n",
    "for i in n :\n",
    "    if i in vowels:\n",
    "        count+=1\n",
    "print(count)"
   ]
  },
  {
   "cell_type": "code",
   "execution_count": null,
   "id": "d73f15e7",
   "metadata": {},
   "outputs": [
    {
     "name": "stdout",
     "output_type": "stream",
     "text": [
      "3\n",
      "4\n"
     ]
    }
   ],
   "source": [
    "nums = [1, 2, 5, 6]\n",
    "for i in range(1, 7):  \n",
    "    if i not in nums:\n",
    "        print(i)\n"
   ]
  },
  {
   "cell_type": "code",
   "execution_count": 73,
   "id": "6639ffdb",
   "metadata": {},
   "outputs": [
    {
     "name": "stdout",
     "output_type": "stream",
     "text": [
      "2\n",
      "5\n"
     ]
    }
   ],
   "source": [
    "list=[1,3,4,6]\n",
    "for i in range(1, max(list)+1):\n",
    "    if i not in list :\n",
    "        print(i)"
   ]
  }
 ],
 "metadata": {
  "kernelspec": {
   "display_name": "Python 3",
   "language": "python",
   "name": "python3"
  },
  "language_info": {
   "codemirror_mode": {
    "name": "ipython",
    "version": 3
   },
   "file_extension": ".py",
   "mimetype": "text/x-python",
   "name": "python",
   "nbconvert_exporter": "python",
   "pygments_lexer": "ipython3",
   "version": "3.13.5"
  }
 },
 "nbformat": 4,
 "nbformat_minor": 5
}
