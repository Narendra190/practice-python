{
 "cells": [
  {
   "cell_type": "code",
   "execution_count": null,
   "id": "9e725f6f",
   "metadata": {},
   "outputs": [
    {
     "name": "stdout",
     "output_type": "stream",
     "text": [
      "r : 2\n"
     ]
    }
   ],
   "source": [
    "n=input()\n",
    "max_count=0\n",
    "max_char=\"\"\n",
    "\n",
    "for i in n:\n",
    "    if(n.count(i)>max_count):\n",
    "        max_count=n.count(i)\n",
    "        max_char=i\n",
    "print(f\"{max_char} : {max_count}\")"
   ]
  },
  {
   "cell_type": "code",
   "execution_count": 7,
   "id": "262fbb55",
   "metadata": {},
   "outputs": [
    {
     "name": "stdout",
     "output_type": "stream",
     "text": [
      "n : 2\n"
     ]
    }
   ],
   "source": [
    "n=input()\n",
    "n=n.replace(\"  \",\"\")\n",
    "max_count=0\n",
    "max_char=\"\"\n",
    "for i in n:\n",
    "    if(n.count(i)>max_count):\n",
    "        max_count=n.count(i)\n",
    "        max_char=i\n",
    "print(f\"{max_char} : {max_count}\")"
   ]
  },
  {
   "cell_type": "code",
   "execution_count": 10,
   "id": "fef29e92",
   "metadata": {},
   "outputs": [
    {
     "name": "stdout",
     "output_type": "stream",
     "text": [
      "Not a palindrome\n"
     ]
    }
   ],
   "source": [
    "n=input()\n",
    "n=n.lower()\n",
    "s=\"\"\n",
    "for i in n:\n",
    "    if(i.isalnum()):\n",
    "        s+=i\n",
    "if(s==s[::-1]):\n",
    "    print(\"palindrome\")\n",
    "else:\n",
    "    print(\"Not a palindrome\")"
   ]
  },
  {
   "cell_type": "code",
   "execution_count": 13,
   "id": "58f25ff7",
   "metadata": {},
   "outputs": [
    {
     "name": "stdout",
     "output_type": "stream",
     "text": [
      "l3h3g3i3u4e4v3n2a3;1f1\n"
     ]
    }
   ],
   "source": [
    "def compress_string(s):\n",
    "    result = \"\"\n",
    "    counted = set()  # to avoid counting same character again\n",
    "    for ch in s:\n",
    "        if ch not in counted:\n",
    "            result += ch + str(s.count(ch))\n",
    "            counted.add(ch)\n",
    "    return result\n",
    "\n",
    "# Example\n",
    "n = input(\"\")\n",
    "compressed = compress_string(n)\n",
    "print(compressed) "
   ]
  },
  {
   "cell_type": "code",
   "execution_count": 15,
   "id": "05fdde70",
   "metadata": {},
   "outputs": [
    {
     "name": "stdout",
     "output_type": "stream",
     "text": [
      "n2a2r2e1d1\n"
     ]
    }
   ],
   "source": [
    "n=input()  #narendra\n",
    "s=\"\"   #n2a2r2e1d1\n",
    "for i in n:   #i=a\n",
    "    if(i not in s):\n",
    "        s+=i+str(n.count(i))\n",
    "print(s)"
   ]
  },
  {
   "cell_type": "code",
   "execution_count": null,
   "id": "f4227214",
   "metadata": {},
   "outputs": [],
   "source": [
    "def swap(n):\n",
    "    n=input()\n",
    "    swap=[]\n",
    "    for ch in n:\n",
    "        "
   ]
  },
  {
   "cell_type": "code",
   "execution_count": 21,
   "id": "ae37b9d7",
   "metadata": {},
   "outputs": [
    {
     "name": "stdout",
     "output_type": "stream",
     "text": [
      "godinc "
     ]
    }
   ],
   "source": [
    "n=input()\n",
    "n=n.split()\n",
    "for i in n:\n",
    "    if(len(i)<1):\n",
    "        print(i, end = \" \")\n",
    "    else:\n",
    "        print(i[-1]+i[1:-1]+i[0],end=\" \")\n",
    "    "
   ]
  },
  {
   "cell_type": "code",
   "execution_count": 28,
   "id": "923c74a2",
   "metadata": {},
   "outputs": [
    {
     "name": "stdout",
     "output_type": "stream",
     "text": [
      "WeSdRgTf\n"
     ]
    }
   ],
   "source": [
    "n=input()\n",
    "s=\"\"\n",
    "for i in range(len(n)):\n",
    "    if(i%2==0):\n",
    "        s+=n[i].upper()\n",
    "    else:\n",
    "        s+=n[i].lower()\n",
    "print(s)\n"
   ]
  },
  {
   "cell_type": "code",
   "execution_count": 30,
   "id": "04646215",
   "metadata": {},
   "outputs": [
    {
     "name": "stdout",
     "output_type": "stream",
     "text": [
      "Invalid password \n"
     ]
    }
   ],
   "source": [
    "''' write a code to check if the given password is valid or not '''\n",
    "\n",
    "def valid():\n",
    "    password = input(\"Enter password: \")\n",
    "\n",
    "    if len(password) < 3:\n",
    "        print(\"Password too short \")\n",
    "        return\n",
    "\n",
    "    has_upper = False\n",
    "    has_lower = False\n",
    "    has_digit = False\n",
    "    has_special = False\n",
    "\n",
    "    for char in password:\n",
    "        if char.isupper():\n",
    "            has_upper = True\n",
    "        elif char.islower():\n",
    "            has_lower = True\n",
    "        elif char.isdigit():\n",
    "            has_digit = True\n",
    "        elif char in \"@#$%&*!\":\n",
    "            has_special = True\n",
    "\n",
    "    if has_upper and has_lower and has_digit and has_special:\n",
    "        print(\"Valid password \")\n",
    "    else:\n",
    "        print(\"Invalid password \")\n",
    "\n",
    "# Try it\n",
    "valid()"
   ]
  },
  {
   "cell_type": "code",
   "execution_count": 31,
   "id": "25303234",
   "metadata": {},
   "outputs": [
    {
     "name": "stdout",
     "output_type": "stream",
     "text": [
      "\n"
     ]
    }
   ],
   "source": [
    "'''given a strings and list if sub strings, remove all occurrences of these substrings from s'''\n",
    "\n",
    "s=input()\n",
    "sub_str=input().split()\n",
    "for i in sub_str:\n",
    "    s=s.replace(i,\"\")\n",
    "print(s)\n"
   ]
  },
  {
   "cell_type": "code",
   "execution_count": 38,
   "id": "71fbe021",
   "metadata": {},
   "outputs": [
    {
     "name": "stdout",
     "output_type": "stream",
     "text": [
      "a : 2\n"
     ]
    }
   ],
   "source": [
    "n=input()\n",
    "min_count = len(n) + 1\n",
    "min_char=\"\"\n",
    "\n",
    "for i in n:\n",
    "    if(n.count(i)<min_count):\n",
    "        min_count=n.count(i)\n",
    "        min_char=i\n",
    "print(f\"{min_char} : {min_count}\")"
   ]
  },
  {
   "cell_type": "code",
   "execution_count": 39,
   "id": "f223af09",
   "metadata": {},
   "outputs": [
    {
     "name": "stdout",
     "output_type": "stream",
     "text": [
      "4\n"
     ]
    }
   ],
   "source": [
    "n=input()\n",
    "max=0\n",
    "for i in n:\n",
    "    if(n.count(i)>max):\n",
    "        max=n.count(i)\n",
    "print(len(n)-max)"
   ]
  },
  {
   "cell_type": "code",
   "execution_count": 54,
   "id": "c5888826",
   "metadata": {},
   "outputs": [
    {
     "name": "stdout",
     "output_type": "stream",
     "text": [
      "my_variable_name\n"
     ]
    }
   ],
   "source": [
    "def camel_to_snake(text):\n",
    "    result = \"\"\n",
    "    for char in text:\n",
    "        if char.isupper():\n",
    "            if result:  # avoid underscore at the beginning\n",
    "                result += \"_\"\n",
    "            result += char.lower()\n",
    "        else:\n",
    "            result += char\n",
    "    return result\n",
    "camel = \"MyVariableName\"\n",
    "snake = camel_to_snake(camel)\n",
    "print(snake)  # Output: my_variable_name\n",
    "\n"
   ]
  },
  {
   "cell_type": "code",
   "execution_count": 1,
   "id": "7b7ae681",
   "metadata": {},
   "outputs": [
    {
     "name": "stdout",
     "output_type": "stream",
     "text": [
      "\n",
      "\n",
      "\n",
      "\n",
      "\n",
      "\n",
      "\n",
      "\n",
      "\n",
      "\n",
      "\n",
      "\n",
      "\n",
      "\n"
     ]
    }
   ],
   "source": [
    "n=input()\n",
    "s=\"\"\n",
    "for i in n:\n",
    "    if(i.isupper()):\n",
    "        if(s!= \"\"):\n",
    "            s+=\" \"\n",
    "            s+=\"_\"+i.lower()\n",
    "        else:\n",
    "            s+=i\n",
    "    print(s)"
   ]
  }
 ],
 "metadata": {
  "kernelspec": {
   "display_name": "Python 3",
   "language": "python",
   "name": "python3"
  },
  "language_info": {
   "codemirror_mode": {
    "name": "ipython",
    "version": 3
   },
   "file_extension": ".py",
   "mimetype": "text/x-python",
   "name": "python",
   "nbconvert_exporter": "python",
   "pygments_lexer": "ipython3",
   "version": "3.11.9"
  }
 },
 "nbformat": 4,
 "nbformat_minor": 5
}
