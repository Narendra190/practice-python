{
 "cells": [
  {
   "cell_type": "code",
   "execution_count": 3,
   "id": "035dfe22",
   "metadata": {},
   "outputs": [
    {
     "name": "stdout",
     "output_type": "stream",
     "text": [
      "hello\n",
      "hello\n"
     ]
    }
   ],
   "source": [
    "def greet():\n",
    "    print(\"hello\")\n",
    "\n",
    "greet()\n",
    "greet()"
   ]
  },
  {
   "cell_type": "code",
   "execution_count": 4,
   "id": "969a907b",
   "metadata": {},
   "outputs": [
    {
     "name": "stdout",
     "output_type": "stream",
     "text": [
      "Hello Raju\n"
     ]
    }
   ],
   "source": [
    "def greet(name):\n",
    "    msg=\"Hello \"+name\n",
    "    return msg\n",
    "\n",
    "greetings=greet(\"Raju\")\n",
    "print(greetings)"
   ]
  },
  {
   "cell_type": "code",
   "execution_count": 5,
   "id": "bf3a4db6",
   "metadata": {},
   "outputs": [
    {
     "name": "stdout",
     "output_type": "stream",
     "text": [
      "Hello narendra\n"
     ]
    }
   ],
   "source": [
    "def greet(name):\n",
    "    print(\"Hello\",name)\n",
    "    \n",
    "name=input()\n",
    "greet(name)"
   ]
  },
  {
   "cell_type": "code",
   "execution_count": 6,
   "id": "84128402",
   "metadata": {},
   "outputs": [
    {
     "data": {
      "text/plain": [
       "'Hello Raju'"
      ]
     },
     "execution_count": 6,
     "metadata": {},
     "output_type": "execute_result"
    }
   ],
   "source": [
    "def greet():\n",
    "    return (\"Hello Raju\")\n",
    "    \n",
    "greet()"
   ]
  },
  {
   "cell_type": "code",
   "execution_count": 7,
   "id": "ce6367bb",
   "metadata": {},
   "outputs": [
    {
     "name": "stdout",
     "output_type": "stream",
     "text": [
      "Hello Raju\n"
     ]
    }
   ],
   "source": [
    "def greet():\n",
    "    return \"Hello Raju\"\n",
    "\n",
    "print(greet())"
   ]
  },
  {
   "cell_type": "code",
   "execution_count": 8,
   "id": "ce7ba6f0",
   "metadata": {},
   "outputs": [
    {
     "name": "stdout",
     "output_type": "stream",
     "text": [
      "Hello narendra\n"
     ]
    }
   ],
   "source": [
    "def greet(name):\n",
    "    msg= \"Hello \"+name\n",
    "    return msg\n",
    "\n",
    "print(greet(name))"
   ]
  },
  {
   "cell_type": "code",
   "execution_count": 9,
   "id": "beb63960",
   "metadata": {},
   "outputs": [
    {
     "name": "stdout",
     "output_type": "stream",
     "text": [
      "15\n"
     ]
    }
   ],
   "source": [
    "def sum_of_two_numbers(a,b):\n",
    "    sum=a+b\n",
    "    return(sum)\n",
    "\n",
    "a=int(input())\n",
    "b=int(input())\n",
    "\n",
    "sum=(sum_of_two_numbers(a,b))\n",
    "print(sum)"
   ]
  },
  {
   "cell_type": "code",
   "execution_count": 2,
   "id": "62332522",
   "metadata": {},
   "outputs": [
    {
     "name": "stdout",
     "output_type": "stream",
     "text": [
      "9\n"
     ]
    }
   ],
   "source": [
    "def sum_of_the_digits():\n",
    "    a = int(input())\n",
    "    b = int(input())\n",
    "    total = a + b\n",
    "    print(total)\n",
    "\n",
    "sum_of_the_digits()"
   ]
  },
  {
   "cell_type": "code",
   "execution_count": 10,
   "id": "f4a07abd",
   "metadata": {},
   "outputs": [
    {
     "name": "stdout",
     "output_type": "stream",
     "text": [
      "B  is greater\n"
     ]
    }
   ],
   "source": [
    "def comparision(a,b,):\n",
    "    if a>b:\n",
    "        return\" A is greater\"\n",
    "    elif b>a:\n",
    "        return\"B  is greater\"\n",
    "    else:\n",
    "        return\"Both are equal\"\n",
    "a=int(input(\"Enter first number: \"))\n",
    "b=int(input(\"Enter second number: \"))\n",
    "print(comparision(a,b))"
   ]
  },
  {
   "cell_type": "code",
   "execution_count": 1,
   "id": "5648966d",
   "metadata": {},
   "outputs": [
    {
     "name": "stdout",
     "output_type": "stream",
     "text": [
      "The largest number is: 8\n"
     ]
    }
   ],
   "source": [
    "'''print the largest number in the given list using function'''\n",
    "\n",
    "def find_largest_number(numbers):\n",
    "    largest = numbers[0]\n",
    "    for num in numbers:\n",
    "        if num > largest:\n",
    "            largest = num\n",
    "    return largest\n",
    "\n",
    "num_list = [3, 5, 2, 8, 1]\n",
    "print(\"The largest number is:\", find_largest_number(num_list))"
   ]
  },
  {
   "cell_type": "code",
   "execution_count": null,
   "id": "a8ab6fe1",
   "metadata": {},
   "outputs": [
    {
     "name": "stdout",
     "output_type": "stream",
     "text": [
      "3\n",
      "5\n",
      "7\n"
     ]
    }
   ],
   "source": [
    "def odd_num():\n",
    "    for i in range(m,n+1):\n",
    "        if(i%2==1):\n",
    "            print(i)\n",
    "\n",
    "m=int(input())\n",
    "n=int(input())\n",
    "odd_num()"
   ]
  },
  {
   "cell_type": "code",
   "execution_count": null,
   "id": "36d30861",
   "metadata": {},
   "outputs": [
    {
     "name": "stdout",
     "output_type": "stream",
     "text": [
      "2\n",
      "4\n",
      "6\n",
      "8\n",
      "10\n"
     ]
    }
   ],
   "source": [
    "def even_num():\n",
    "    for i in range(a,b+1):\n",
    "        if(i%2==0):\n",
    "            print(i)\n",
    "\n",
    "a=int(input())\n",
    "b=int(input())\n",
    "even_num()"
   ]
  },
  {
   "cell_type": "code",
   "execution_count": null,
   "id": "33ce56c1",
   "metadata": {},
   "outputs": [
    {
     "name": "stdout",
     "output_type": "stream",
     "text": [
      "7\n"
     ]
    }
   ],
   "source": [
    "def factors(n):\n",
    "    for i in range(1,n+1):\n",
    "        if(i%n==0):\n",
    "            print(i)\n",
    "\n",
    "n=int(input())\n",
    "factors(n)"
   ]
  },
  {
   "cell_type": "code",
   "execution_count": 4,
   "id": "4669a341",
   "metadata": {},
   "outputs": [
    {
     "name": "stdout",
     "output_type": "stream",
     "text": [
      "\n"
     ]
    }
   ],
   "source": [
    "def join_at_indices():\n",
    "    n = input()\n",
    "    indices = list(map(int, input(\"enter:\").split()))\n",
    "    result = ''\n",
    "    for i in indices:\n",
    "        if 0 <= i < len(n):\n",
    "            result += n[i]\n",
    "    return result\n",
    "\n",
    "print(join_at_indices())\n"
   ]
  },
  {
   "cell_type": "code",
   "execution_count": 5,
   "id": "22081451",
   "metadata": {},
   "outputs": [
    {
     "name": "stdout",
     "output_type": "stream",
     "text": [
      "python\n"
     ]
    }
   ],
   "source": [
    "def convert_string(input_string):\n",
    "    lower_string = input_string.lower()\n",
    "\n",
    "    converted_string = lower_string.replace('tonyph', 'python')\n",
    "    return converted_string\n",
    "input_string = \"TONYPH\"\n",
    "result = convert_string(input_string)\n",
    "print(result)"
   ]
  },
  {
   "cell_type": "code",
   "execution_count": 7,
   "id": "a270c4ae",
   "metadata": {},
   "outputs": [],
   "source": [
    "def replaced_str(s,indexes):\n",
    "    for i in indexes:\n",
    "        print(s[j],end='')\n",
    "        \n",
    "s=input()\n",
    "indexes = map(int, input().split())"
   ]
  },
  {
   "cell_type": "code",
   "execution_count": 9,
   "id": "3ca6efb7",
   "metadata": {},
   "outputs": [
    {
     "name": "stdout",
     "output_type": "stream",
     "text": [
      "1\n"
     ]
    }
   ],
   "source": [
    "'''count the number off even nnumbers in a list using function'''\n",
    "\n",
    "def even_count(n):\n",
    "    count=0\n",
    "    for i in n:\n",
    "        if (i % 2 == 0):\n",
    "            count += 1\n",
    "    return count\n",
    "n=list(map(int, input().split()))\n",
    "even_count = even_count(n)\n",
    "print(even_count)"
   ]
  },
  {
   "cell_type": "code",
   "execution_count": 11,
   "id": "27954416",
   "metadata": {},
   "outputs": [
    {
     "name": "stdout",
     "output_type": "stream",
     "text": [
      "ardneran\n"
     ]
    }
   ],
   "source": [
    "def reverse(n):\n",
    "    return n[::-1]\n",
    "n=input()\n",
    "print(reverse(n))"
   ]
  }
 ],
 "metadata": {
  "kernelspec": {
   "display_name": "Python 3",
   "language": "python",
   "name": "python3"
  },
  "language_info": {
   "codemirror_mode": {
    "name": "ipython",
    "version": 3
   },
   "file_extension": ".py",
   "mimetype": "text/x-python",
   "name": "python",
   "nbconvert_exporter": "python",
   "pygments_lexer": "ipython3",
   "version": "3.11.9"
  }
 },
 "nbformat": 4,
 "nbformat_minor": 5
}
