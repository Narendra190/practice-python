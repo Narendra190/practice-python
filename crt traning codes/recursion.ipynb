{
 "cells": [
  {
   "cell_type": "markdown",
   "id": "15f04428",
   "metadata": {},
   "source": [
    "#RECURSION\n",
    "\n",
    "if function calling itself, it is called recursion.\n",
    "Recursion is a process in which a function calls itself as a subroutine."
   ]
  },
  {
   "cell_type": "code",
   "execution_count": 1,
   "id": "46521f66",
   "metadata": {},
   "outputs": [
    {
     "name": "stdout",
     "output_type": "stream",
     "text": [
      "120\n"
     ]
    }
   ],
   "source": [
    "def factorial(n):\n",
    "    if n==1 or n==0:\n",
    "        return 1\n",
    "    else:\n",
    "        return n * factorial(n-1)\n",
    "n=int(input(\"Enter a number to find its factorial: \"))\n",
    "print(factorial(n))"
   ]
  },
  {
   "cell_type": "code",
   "execution_count": 2,
   "id": "ebef94d0",
   "metadata": {},
   "outputs": [
    {
     "name": "stdout",
     "output_type": "stream",
     "text": [
      "The sum of natural numbers up to 5 is: 15\n"
     ]
    }
   ],
   "source": [
    "'''write a program to find the sum of natural numbers of using recursion'''\n",
    "\n",
    "def sum(n):\n",
    "    if n == 0:\n",
    "        return 0\n",
    "    else:\n",
    "        return n + sum(n - 1)\n",
    "n = int(input(\"Enter a number to find the sum of natural numbers: \"))\n",
    "print(\"The sum of natural numbers up to\", n, \"is:\", sum(n))\n"
   ]
  },
  {
   "cell_type": "code",
   "execution_count": 6,
   "id": "fd566c6b",
   "metadata": {},
   "outputs": [
    {
     "name": "stdout",
     "output_type": "stream",
     "text": [
      "The 5 th Fibonacci number is: 5\n"
     ]
    }
   ],
   "source": [
    "'''write a program to find the nth fibonacci number using recursion'''\n",
    "\n",
    "def fibonacci(n):\n",
    "    if n == 0:\n",
    "        return 0\n",
    "    elif n == 1:\n",
    "        return 1\n",
    "    else:\n",
    "        return fibonacci(n - 1) + fibonacci(n - 2)\n",
    "\n",
    "n = int(input ())\n",
    "print(\"The\", n, \"th Fibonacci number is:\", fibonacci(n))"
   ]
  },
  {
   "cell_type": "code",
   "execution_count": 10,
   "id": "0d108800",
   "metadata": {},
   "outputs": [
    {
     "name": "stdout",
     "output_type": "stream",
     "text": [
      "64\n"
     ]
    }
   ],
   "source": [
    "'''write a program to find power if two numbers using recursion'''\n",
    "\n",
    "def power(base, exp):\n",
    "    if exp == 0:\n",
    "        return 1\n",
    "    else:\n",
    "        return base * power(base, exp - 1)\n",
    "\n",
    "base = int(input(\"Enter the base: \"))\n",
    "exp = int(input(\"Enter the exponent: \"))\n",
    "print(power(base, exp))"
   ]
  },
  {
   "cell_type": "code",
   "execution_count": 12,
   "id": "d7e3b8de",
   "metadata": {},
   "outputs": [
    {
     "name": "stdout",
     "output_type": "stream",
     "text": [
      "The number of digits in 555 is: 3\n"
     ]
    }
   ],
   "source": [
    "'''write a program to count the number of digits in a number using recursion'''\n",
    "\n",
    "def count_digits(n):\n",
    "    if n == 0:\n",
    "        return 0\n",
    "    else:\n",
    "        return 1 + count_digits(n // 10)\n",
    "\n",
    "n = int(input())\n",
    "print(\"The number of digits in\", n, \"is:\", count_digits(n))"
   ]
  }
 ],
 "metadata": {
  "kernelspec": {
   "display_name": "Python 3",
   "language": "python",
   "name": "python3"
  },
  "language_info": {
   "codemirror_mode": {
    "name": "ipython",
    "version": 3
   },
   "file_extension": ".py",
   "mimetype": "text/x-python",
   "name": "python",
   "nbconvert_exporter": "python",
   "pygments_lexer": "ipython3",
   "version": "3.11.9"
  }
 },
 "nbformat": 4,
 "nbformat_minor": 5
}
