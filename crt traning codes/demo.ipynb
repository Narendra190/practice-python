{
 "cells": [
  {
   "cell_type": "code",
   "execution_count": 7,
   "id": "1a0752c1",
   "metadata": {},
   "outputs": [
    {
     "name": "stdout",
     "output_type": "stream",
     "text": [
      "a is greater\n"
     ]
    }
   ],
   "source": [
    "'''write a program to check the largest among the three numbers'''\n",
    "\n",
    "a=int(input(\"Enter the first side of triangle: \"))\n",
    "b=int(input(   \"Enter the second side of triangle: \"))  \n",
    "c=int(input(    \"Enter the third side of triangle: \"))\n",
    "if (a>b and a>c):\n",
    "    print(\"a is greater\")\n",
    "elif (b>a and b>c):\n",
    "    print(\"b is greater\")\n",
    "elif (c>a and c>b):\n",
    "    print(\"c is greater\")\n",
    "else:\n",
    "    print(\"all are equal numbers\")"
   ]
  },
  {
   "cell_type": "code",
   "execution_count": 13,
   "id": "5bbe62f9",
   "metadata": {},
   "outputs": [
    {
     "name": "stdout",
     "output_type": "stream",
     "text": [
      "invalid password\n"
     ]
    }
   ],
   "source": [
    "name=input()\n",
    "password=input()\n",
    "if (name==\"narendra\"):\n",
    "    if (password==\"12345\"):\n",
    "        print(\"login success\")\n",
    "    else:\n",
    "        print(\"invalid password\")\n",
    "else:\n",
    "    print(\"invalid name\")"
   ]
  },
  {
   "cell_type": "code",
   "execution_count": 15,
   "id": "03861284",
   "metadata": {},
   "outputs": [
    {
     "name": "stdout",
     "output_type": "stream",
     "text": [
      "not a leap year\n"
     ]
    }
   ],
   "source": [
    "''' write a program to check the given year is leap year or not'''\n",
    "\n",
    "year=int(input())\n",
    "\n",
    "if((year%4==0 and year%100!=0) or (year%400==0)):\n",
    "    print(\"leap year\")\n",
    "else:\n",
    "    print(\"not a leap year\")"
   ]
  },
  {
   "cell_type": "code",
   "execution_count": 20,
   "id": "cd969f2f",
   "metadata": {},
   "outputs": [
    {
     "name": "stdout",
     "output_type": "stream",
     "text": [
      "216\n"
     ]
    }
   ],
   "source": [
    "''' write a program  to print the sum of the  cubes of the numbers from M and N '''\n",
    "\n",
    "m=int(input())\n",
    "n=int(input())\n",
    "sum=0\n",
    "for i in range(m,n+1):\n",
    "    sum+=(i**3)\n",
    "print(sum)"
   ]
  },
  {
   "cell_type": "code",
   "execution_count": 22,
   "id": "f5357dd5",
   "metadata": {},
   "outputs": [
    {
     "data": {
      "text/plain": [
       "' Write a program that reads a distance D in km and calculates the total Score. \\nFor the first 50 km (0-50km), the score for each km, is 3 \\nFor the next 50 km (51-100km), the score for each km, is 5 \\nFor the next 100 km (101-200km), the score for each km, is 6 \\nFor the first 50 km (201-250km), the score for each km, is 8 \\nFor the above 250 km, the score for each km, is 10 \\nApart from the above scores, there is a bonus score of 100'"
      ]
     },
     "execution_count": 22,
     "metadata": {},
     "output_type": "execute_result"
    }
   ],
   "source": [
    "''' Write a program that reads a distance D in km and calculates the total Score. \n",
    "For the first 50 km (0-50km), the score for each km, is 3 \n",
    "For the next 50 km (51-100km), the score for each km, is 5 \n",
    "For the next 100 km (101-200km), the score for each km, is 6 \n",
    "For the first 50 km (201-250km), the score for each km, is 8 \n",
    "For the above 250 km, the score for each km, is 10 \n",
    "Apart from the above scores, there is a bonus score of 100'''\n"
   ]
  },
  {
   "cell_type": "code",
   "execution_count": 24,
   "id": "592307d9",
   "metadata": {},
   "outputs": [
    {
     "name": "stdout",
     "output_type": "stream",
     "text": [
      "armstrong number\n"
     ]
    }
   ],
   "source": [
    "#armstron number\n",
    "\n",
    "n=int(input())\n",
    "a=str(n)\n",
    "sum=0\n",
    "for i in range(len(a)):\n",
    "    sum+=int(a[i])**len(a)\n",
    "if(sum==n):\n",
    "    print(\"armstrong number\")\n",
    "else:\n",
    "    print(\"not a armstrong number\")"
   ]
  },
  {
   "cell_type": "code",
   "execution_count": 25,
   "id": "682fd1ca",
   "metadata": {},
   "outputs": [
    {
     "name": "stdout",
     "output_type": "stream",
     "text": [
      "2000:32 500:3 200:0 503 200 51 20 11\n"
     ]
    }
   ],
   "source": [
    "a=int(input())\n",
    "two_thousands=(a//2000)\n",
    "five_hundreds=((a%2000)//500)\n",
    "two_hundreds=(((a%2000)%500)//200)\n",
    "fifties=((((a%2000)%500)%200)//50)\n",
    "twenties=(((((a%2000)%500)%200)%50)//20)\n",
    "fives=((((((a%2000)%500)%200)%50)%20)//5)\n",
    "twos=(((((((a%2000)%500)%200)%50)%20)%5)//2)\n",
    "ones=((((((((a%2000)%500)%200)%50)%20)%5)%2)//1)\n",
    "\n",
    "print(\"2000:\"+str(two_thousands),\"500:\"+str(five_hundreds),\"200:\"+str(two_hundreds),\"50\"+str(fifties),\"20\"+str(twenties),\"5\"+str(fives),\"2\"+str(twos),\"1\"+str(ones))"
   ]
  },
  {
   "cell_type": "code",
   "execution_count": 12,
   "id": "6317240f",
   "metadata": {},
   "outputs": [
    {
     "name": "stdout",
     "output_type": "stream",
     "text": [
      "7\n"
     ]
    }
   ],
   "source": [
    "def sum_of_the_digits():\n",
    "    a = int(input())\n",
    "    b = int(input())\n",
    "    total = a + b\n",
    "    print(total)\n",
    "\n",
    "sum_of_the_digits()"
   ]
  }
 ],
 "metadata": {
  "kernelspec": {
   "display_name": "Python 3",
   "language": "python",
   "name": "python3"
  },
  "language_info": {
   "codemirror_mode": {
    "name": "ipython",
    "version": 3
   },
   "file_extension": ".py",
   "mimetype": "text/x-python",
   "name": "python",
   "nbconvert_exporter": "python",
   "pygments_lexer": "ipython3",
   "version": "3.13.5"
  }
 },
 "nbformat": 4,
 "nbformat_minor": 5
}
